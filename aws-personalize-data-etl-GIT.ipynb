{
 "cells": [
  {
   "cell_type": "code",
   "execution_count": null,
   "id": "d20af6f7-c0ee-49c9-923a-f4fa0cfbe388",
   "metadata": {},
   "outputs": [],
   "source": [
    "import time\n",
    "from time import sleep\n",
    "import json\n",
    "from datetime import datetime\n",
    "import math\n",
    "import fastavro\n",
    "import boto3\n",
    "import numpy as np\n",
    "import pandas as pd\n",
    "from math import radians, cos, sin, asin, sqrt\n",
    "from sklearn.model_selection import train_test_split\n",
    "import re\n",
    "import ast\n",
    "import geotable\n",
    "# in order to install gdal first you have to go that link https://www.lfd.uci.edu/~gohlke/pythonlibs/#gdal download the version compatible with your\n",
    "# PC and then pip install GDAL-x.x.x-cp39-cp39-win_amd64.whl on your terminal or cmd\n",
    "from shapely.geometry import Point\n",
    "from shapely.geometry.polygon import Polygon\n",
    "from difflib import SequenceMatcher\n",
    "import psycopg2\n",
    "from sqlalchemy import create_engine"
   ]
  },
  {
   "cell_type": "code",
   "execution_count": null,
   "id": "63a04cbd-216b-4472-b2b2-1b79b185e57c",
   "metadata": {},
   "outputs": [],
   "source": [
    "def otherz_zone(df):\n",
    "    res = df\n",
    "    indcies = res.loc[res['zone_id'] == 113].index\n",
    "    for i in indcies:\n",
    "        if res['zone_name'].loc[i] == 'others':\n",
    "            res.at[i, 'zone_id'] = 136\n",
    "    return res"
   ]
  },
  {
   "cell_type": "code",
   "execution_count": null,
   "id": "34a7208c-9ac3-4c4b-9cc2-df6a6bded88a",
   "metadata": {},
   "outputs": [],
   "source": [
    "def similar(a, b):\n",
    "    '''\n",
    "    input:\n",
    "        a: string\n",
    "        b: string\n",
    "    returns:\n",
    "         percentage of how much a matches b \n",
    "    '''\n",
    "    return SequenceMatcher(None, a, b).ratio()"
   ]
  },
  {
   "cell_type": "code",
   "execution_count": null,
   "id": "ca4793b4-2b29-4a85-9d6c-ac2ac0fbcbea",
   "metadata": {},
   "outputs": [],
   "source": [
    "def match(series,karims):\n",
    "    '''\n",
    "    input:\n",
    "        series: is a pandas series of zone names\n",
    "        karims: is a pandas dataframe that consists of {zone_id:int, zone_name_en: string, zone_name_ar}\n",
    "    returns:\n",
    "        list of ids in the same order of series \n",
    "    '''\n",
    "    dict_ids = {}\n",
    "    for i in series.unique():\n",
    "        perc = karims['en'].apply(lambda x: similar(x,i))\n",
    "        maxm = perc.max()\n",
    "        indx = perc.loc[perc == maxm].index[0]\n",
    "        Id = karims.loc[indx]['id']\n",
    "        dict_ids[i] = Id\n",
    "    df1 = pd.DataFrame({'zone_name' : dict_ids.keys(), 'zone_id' : dict_ids.values()})\n",
    "    #res = pd.merge(users_zones['zone_name'],df1, how = 'left',on = 'zone_name')\n",
    "    return df1"
   ]
  },
  {
   "cell_type": "code",
   "execution_count": null,
   "id": "1a984f5d-8f60-482e-8a1b-888cabe5d469",
   "metadata": {},
   "outputs": [],
   "source": [
    "def getpolys(ser,long,lat):\n",
    "    point = Point(long,lat)\n",
    "    c = 0\n",
    "    for i in ser:\n",
    "        if i.contains(point) or i.touches(point):\n",
    "            return c\n",
    "        else:\n",
    "            c+=1\n",
    "    return -1"
   ]
  },
  {
   "cell_type": "code",
   "execution_count": null,
   "id": "f4d24b40-3d36-4669-a5a0-c5f530c3935f",
   "metadata": {},
   "outputs": [],
   "source": [
    "def zoneser(ser_poly,ser_long,ser_lat):\n",
    "    \"\"\"\"inputs: \n",
    "             ser_poly: is a pandas series that contains the polygons of each zone\n",
    "             ser_long: is a pandas series that contains the longitudes \n",
    "             ser_long: is a pandas series that contains the latitude\n",
    "        returns:\n",
    "                points: a pandas series that contains the indecies of the zones \n",
    "    \"\"\"\n",
    "    points = pd.DataFrame({\"long\":ser_long,\"lat\":ser_lat})\n",
    "    #points['points'] = points.apply(lambda x: Point(x.long, x.lat), axis=1)\n",
    "    points['zone_index'] = points.apply(lambda x : getpolys(ser_poly,x.long,x.lat), axis=1)\n",
    "    return points\n",
    "t = geotable.load('D:\\zones mapping files\\AL 3 Zones 2022-08-31.kmz')\n",
    "t.head()"
   ]
  },
  {
   "cell_type": "code",
   "execution_count": null,
   "id": "bfe8f9b2-6802-4d28-b796-3a49a29bc602",
   "metadata": {},
   "outputs": [],
   "source": [
    "def getLastCreatedat(series):\n",
    "    date_time = datetime.fromtimestamp(series.values[-1])  \n",
    "    return str(date_time)"
   ]
  },
  {
   "cell_type": "code",
   "execution_count": null,
   "id": "11f84d3a-a2cd-423b-9d6a-69d59488c3d4",
   "metadata": {},
   "outputs": [],
   "source": [
    "karims = pd.read_excel('D:\\zones mapping files\\\\karims2.xlsx')#,names=['id','en','ar'])\n",
    "print(karims.shape)\n",
    "karims.columns = ['id','en','ar']\n",
    "new_data = pd.DataFrame({'id': [1], 'en': ['Al Baha'], 'ar': ['الباحة']})\n",
    "karims = pd.concat([karims, new_data], ignore_index=True)\n",
    "print(karims.shape)\n",
    "karims.head()"
   ]
  },
  {
   "cell_type": "code",
   "execution_count": null,
   "id": "7e124390-67f9-48a1-8432-6735df1428e2",
   "metadata": {},
   "outputs": [],
   "source": [
    "#query to get my interactions data"
   ]
  },
  {
   "cell_type": "code",
   "execution_count": null,
   "id": "22b12070-00f6-477d-929a-c632301caae1",
   "metadata": {},
   "outputs": [],
   "source": [
    "%%time\n",
    "#inters_update = pd.read_csv('D:\\interactions_only\\interactions_only_update\\\\raw data\\interaction.csv')\n",
    "inters_update.rename(columns={'DropOff_Longitude' : 'long','DropOff_Latitude':'lat'}, inplace = True)\n",
    "inters_update = inters_update.drop_duplicates()\n",
    "print(inters_update.shape)\n",
    "print(inters_update.dtypes)\n",
    "inters_update.tail()"
   ]
  },
  {
   "cell_type": "code",
   "execution_count": null,
   "id": "680ee040-9d9f-4a58-ad9d-aa13cd92a881",
   "metadata": {},
   "outputs": [],
   "source": [
    "%%time\n",
    "zone_df = zoneser(t.geometry_object, inters_update.long, inters_update.lat)\n",
    "print(zone_df.shape)\n",
    "print(zone_df.dtypes)\n",
    "zone_df.head()"
   ]
  },
  {
   "cell_type": "code",
   "execution_count": null,
   "id": "fce23dae-a54a-4f0b-aad7-98ec05bc13d9",
   "metadata": {},
   "outputs": [],
   "source": [
    "%%time\n",
    "zone_df['zone_name'] = zone_df.apply(lambda x: t['Name'][x.zone_index] if x.zone_index != -1  else \"others\", axis=1)\n",
    "zone_df = zone_df.drop_duplicates()\n",
    "print(zone_df.shape)\n",
    "print(zone_df.dtypes)\n",
    "zone_df.head()"
   ]
  },
  {
   "cell_type": "code",
   "execution_count": null,
   "id": "7baebebb-896f-4ef7-8291-d3a7b9f99806",
   "metadata": {},
   "outputs": [],
   "source": [
    "merged_locs = pd.merge(left=inters_update, right=zone_df, how=\"left\", on=['long','lat'])\n",
    "merged_locs = merged_locs.drop_duplicates()\n",
    "# merged_locs = pd.merge(inters_update,zone_df)\n",
    "merged_locs.rename(columns={'OrderStatus' : 'event_value'}, inplace = True)\n",
    "merged_locs['event_value'] = merged_locs['event_value'].values.astype(float)\n",
    "merged_locs['TIMESTAMP'] = merged_locs['TIMESTAMP'].values.astype('long')\n",
    "print(merged_locs.shape)\n",
    "print(merged_locs.dtypes)\n",
    "merged_locs.tail()"
   ]
  },
  {
   "cell_type": "code",
   "execution_count": null,
   "id": "29f012fb-a5ff-46f6-9985-1ffcbf1f8d13",
   "metadata": {},
   "outputs": [],
   "source": [
    "%%time\n",
    "merged_locs = pd.merge(merged_locs,match(merged_locs['zone_name'],karims),how='left',on='zone_name')"
   ]
  },
  {
   "cell_type": "code",
   "execution_count": null,
   "id": "cf1db885-1c93-48c7-b5c5-b6acf14a114b",
   "metadata": {},
   "outputs": [],
   "source": [
    "date_time = datetime.fromtimestamp(merged_locs.loc[merged_locs['zone_name'] == 'رياض الخبراء / Riyadh Al Khabra']['TIMESTAMP'].values[0])  \n",
    "date_time"
   ]
  },
  {
   "cell_type": "code",
   "execution_count": null,
   "id": "76cb3af0-02ec-47fc-ab76-146d508ee901",
   "metadata": {},
   "outputs": [],
   "source": [
    "merged_locs = merged_locs[['USER_ID','ITEM_ID','TIMESTAMP', 'zone_name', 'zone_id']]\n",
    "merged_locs.head()"
   ]
  },
  {
   "cell_type": "code",
   "execution_count": null,
   "id": "48333af6-8301-4d47-8d0d-141f8cbe7b3b",
   "metadata": {},
   "outputs": [],
   "source": [
    "otherz_zone(merged_locs)"
   ]
  },
  {
   "cell_type": "code",
   "execution_count": null,
   "id": "752dc796-779f-4b83-b0fe-71c33f7406d3",
   "metadata": {},
   "outputs": [],
   "source": [
    "merged = pd.concat([merged_locs, interactions], ignore_index=True)"
   ]
  },
  {
   "cell_type": "code",
   "execution_count": null,
   "id": "b27e1e70-ddc6-4c43-b7de-1d65c09fffe7",
   "metadata": {},
   "outputs": [],
   "source": [
    "merged = merged.drop_duplicates()"
   ]
  },
  {
   "cell_type": "markdown",
   "id": "35bc2dac-33a1-4eec-84e4-30897558a4cb",
   "metadata": {},
   "source": [
    "### Users update"
   ]
  },
  {
   "cell_type": "code",
   "execution_count": null,
   "id": "102a9edb-9b95-49ae-a069-d29c893f5d73",
   "metadata": {},
   "outputs": [],
   "source": [
    "#query to get my Users data"
   ]
  },
  {
   "cell_type": "code",
   "execution_count": null,
   "id": "0547b0a4-86a0-47a6-8d68-80fa8884a686",
   "metadata": {},
   "outputs": [],
   "source": [
    "#users_updated = pd.read_csv('D:\\interactions_only\\interactions_only_update\\\\raw data\\\\users.csv')\n",
    "users_updated.rename(columns={'DropOff_Longitude' : 'long','DropOff_Latitude':'lat'}, inplace = True)\n",
    "users_updated = users_updated.drop_duplicates()\n",
    "print(users_updated.shape)\n",
    "print(users_updated.dtypes)\n",
    "print(users_updated['BuyerId'].value_counts())\n",
    "users_updated.head()"
   ]
  },
  {
   "cell_type": "code",
   "execution_count": null,
   "id": "94beea33-552d-428b-951f-370fed79568c",
   "metadata": {},
   "outputs": [],
   "source": [
    "# mapping users locations with the zones\n",
    "users_zone_df = zoneser(t.geometry_object, users_updated.long, users_updated.lat)\n",
    "print(users_zone_df.shape)\n",
    "print(users_zone_df.dtypes)\n",
    "users_zone_df.head()"
   ]
  },
  {
   "cell_type": "code",
   "execution_count": null,
   "id": "0b592ec5-f1d2-418f-b80f-d0f72fac23b8",
   "metadata": {},
   "outputs": [],
   "source": [
    "# adding the zone name to the mapping using indicies\n",
    "users_zone_df['zone_name'] = users_zone_df.apply(lambda x: t['Name'][x.zone_index] if x.zone_index != -1  else \"others\", axis=1)\n",
    "users_zone_df = users_zone_df.drop_duplicates()\n",
    "print(users_zone_df.shape)\n",
    "print(users_zone_df.dtypes)\n",
    "users_zone_df.head()"
   ]
  },
  {
   "cell_type": "code",
   "execution_count": null,
   "id": "a126a8d4-3c93-4f35-ad06-8f87a85e56f4",
   "metadata": {},
   "outputs": [],
   "source": [
    "users_zones = pd.merge(left=users_updated, right=users_zone_df, how=\"left\", on=['long','lat'])\n",
    "users_zones = users_zones.drop_duplicates()\n",
    "print(users_zones.shape)\n",
    "print(users_zones.dtypes)\n",
    "users_zones.head()"
   ]
  },
  {
   "cell_type": "code",
   "execution_count": null,
   "id": "de36bf4c-f8dc-470f-af5b-0af2304b7103",
   "metadata": {},
   "outputs": [],
   "source": [
    "#users_updated = users_updated[['BuyerId','harvesine_distance']]\n",
    "users_zones = users_zones[['BuyerId','zone_name','zone_index']]\n",
    "users_zones.rename(columns = {'BuyerId':'USER_ID'}, inplace = True)\n",
    "users_zones.head()"
   ]
  },
  {
   "cell_type": "code",
   "execution_count": null,
   "id": "cadb4ee7-8ed9-4c49-99c7-6ebf37ef8ba8",
   "metadata": {},
   "outputs": [],
   "source": [
    "%%time\n",
    "users_zones = pd.merge(users_zones,match(users_zones['zone_name'],karims),how='left',on='zone_name')"
   ]
  },
  {
   "cell_type": "code",
   "execution_count": null,
   "id": "1ef4c287-d9fb-44c2-937c-d4fe94ea81c0",
   "metadata": {},
   "outputs": [],
   "source": [
    "u = otherz_zone(users_zones)"
   ]
  },
  {
   "cell_type": "markdown",
   "id": "11c8396c-cee6-48c2-b079-6807582054a1",
   "metadata": {},
   "source": [
    "### Stores"
   ]
  },
  {
   "cell_type": "code",
   "execution_count": null,
   "id": "ebd30c43-d6c9-4adc-af30-f10add72e52f",
   "metadata": {},
   "outputs": [],
   "source": [
    "#query to get my Stores data"
   ]
  },
  {
   "cell_type": "code",
   "execution_count": null,
   "id": "2772f9d7-a5ed-48f1-811d-56e449137ba0",
   "metadata": {},
   "outputs": [],
   "source": [
    "#stores = pd.read_csv('D:\\interactions_only\\interactions_only_update\\\\raw data\\\\stores.csv')\n",
    "stores.drop_duplicates()\n",
    "stores.rename(columns={'Location_Longitude' : 'long','Location_Latitude':'lat'}, inplace = True)\n",
    "print(stores.shape)\n",
    "print(stores.dtypes)\n",
    "stores.head()"
   ]
  },
  {
   "cell_type": "code",
   "execution_count": null,
   "id": "1bb5633e-26bf-40a2-bf9e-61f6fb9968e4",
   "metadata": {},
   "outputs": [],
   "source": [
    "#mapping stores locations to its zones\n",
    "stores_zone_df = zoneser(t.geometry_object, stores.long, stores.lat)\n",
    "print(stores_zone_df.shape)\n",
    "print(stores_zone_df.dtypes)\n",
    "stores_zone_df.head()"
   ]
  },
  {
   "cell_type": "code",
   "execution_count": null,
   "id": "8b1fd61f-0095-46ec-8d4e-45760b888a01",
   "metadata": {},
   "outputs": [],
   "source": [
    "# adding the zone name to the mapping using indicies\n",
    "stores_zone_df['zone_name'] = stores_zone_df.apply(lambda x: t['Name'][x.zone_index] if x.zone_index != -1  else \"others\", axis=1)\n",
    "stores_zone_df = stores_zone_df.drop_duplicates()\n",
    "print(stores_zone_df.shape)\n",
    "print(stores_zone_df.dtypes)\n",
    "stores_zone_df.head()"
   ]
  },
  {
   "cell_type": "code",
   "execution_count": null,
   "id": "b7a1bc9a-1ea4-409e-8c70-cd9985ab38af",
   "metadata": {},
   "outputs": [],
   "source": [
    "stores_zones = pd.merge(left=stores, right=stores_zone_df, how=\"left\", on=['long','lat'])\n",
    "stores_zones = stores_zones.drop_duplicates()\n",
    "print(stores_zones.shape)\n",
    "print(stores_zones.dtypes)\n",
    "stores_zones.head()"
   ]
  },
  {
   "cell_type": "code",
   "execution_count": null,
   "id": "951c64d2-e81d-4949-b182-ddf95abd4d80",
   "metadata": {},
   "outputs": [],
   "source": [
    "stores_zones.rename(columns = {'Id':'ITEM_ID','StoreCategoryTypeId':'CATEGORY_L1'},inplace = True)"
   ]
  },
  {
   "cell_type": "code",
   "execution_count": null,
   "id": "5addf338-6119-4eea-ad59-07cb79ff3ef6",
   "metadata": {},
   "outputs": [],
   "source": [
    "#b7awl akhleha oryba mn el users tabel\n",
    "stores_zones = stores_zones[['ITEM_ID','zone_name','zone_index']]"
   ]
  },
  {
   "cell_type": "code",
   "execution_count": null,
   "id": "3560c686-8fa4-450a-9057-81f8972952ec",
   "metadata": {},
   "outputs": [],
   "source": [
    "%%time\n",
    "stores_zones = pd.merge(stores_zones,match(stores_zones['zone_name'],karims),how='left',on='zone_name')"
   ]
  },
  {
   "cell_type": "code",
   "execution_count": null,
   "id": "a0dc0d84-b080-4e04-ab61-6eea2e7936c2",
   "metadata": {},
   "outputs": [],
   "source": [
    "s = otherz_zone(stores_zones)"
   ]
  },
  {
   "cell_type": "code",
   "execution_count": null,
   "id": "a14bd4a6-bbc4-44f9-ba75-6e7c98eae611",
   "metadata": {},
   "outputs": [],
   "source": [
    "s = s[['ITEM_ID','zone_name','zone_id']]\n",
    "print(s.shape)\n",
    "s.head()"
   ]
  },
  {
   "cell_type": "markdown",
   "id": "dd898c20-5545-46f7-b680-33120081243c",
   "metadata": {},
   "source": [
    "### view latest preprocessed data"
   ]
  },
  {
   "cell_type": "markdown",
   "id": "f2589b15-0d9e-4500-a55d-1d4853a72f24",
   "metadata": {},
   "source": [
    "### Stores"
   ]
  },
  {
   "cell_type": "code",
   "execution_count": null,
   "id": "b4e1fef6-fe39-4e80-842f-2860ce5a2bc7",
   "metadata": {},
   "outputs": [],
   "source": [
    "stores_zones = pd.read_csv('D:\\interactions_only\\interactions_only_update\\\\updates4\\\\stores_after_update23.csv', index_col = False)\n",
    "stores_zones = stores_zones.drop_duplicates()\n",
    "print(stores_zones.shape)\n",
    "print(stores_zones.dtypes)\n",
    "stores_zones.head()"
   ]
  },
  {
   "cell_type": "markdown",
   "id": "c1f8a45f-59ee-4543-9d7c-14b20bfe8d91",
   "metadata": {},
   "source": [
    "### Users"
   ]
  },
  {
   "cell_type": "code",
   "execution_count": null,
   "id": "ba9db82e-1bf5-40a1-a78c-6d32d761adcb",
   "metadata": {},
   "outputs": [],
   "source": [
    "users_zones = pd.read_csv('D:\\interactions_only\\interactions_only_update\\\\updates4\\\\users_after_update23.csv', index_col = False)\n",
    "print(users_zones.shape)\n",
    "print(users_zones.dtypes)\n",
    "users_zones.head(10)"
   ]
  },
  {
   "cell_type": "markdown",
   "id": "67313af8-3f8c-41b4-ab8e-cb71fc6d98e8",
   "metadata": {},
   "source": [
    "### Interactions"
   ]
  },
  {
   "cell_type": "code",
   "execution_count": null,
   "id": "3aa16e0b-fae9-4e27-8d09-5d1cc28540bf",
   "metadata": {},
   "outputs": [],
   "source": [
    "interactions = pd.read_csv('D:\\interactions_only\\interactions_only_update\\\\updates4\\interactions_after_update23.csv')\n",
    "print(interactions.shape)\n",
    "print(interactions.dtypes)\n",
    "interactions.tail()"
   ]
  },
  {
   "cell_type": "code",
   "execution_count": null,
   "id": "6a966d27-e432-460f-be0d-074404557270",
   "metadata": {},
   "outputs": [],
   "source": [
    "import os\n",
    "files = ['interactions_after_update2','users_after_update2','stores_after_update2']\n",
    "\n",
    "for i in files:\n",
    "\n",
    "    file_to_delete = 'D:\\interactions_only\\interactions_only_update\\\\updates4\\{}.csv'.format(i)\n",
    "\n",
    "    try:\n",
    "        os.remove(file_to_delete)\n",
    "        print(f\"{file_to_delete} deleted successfully.\")\n",
    "    except FileNotFoundError:\n",
    "        print(f\"{file_to_delete} not found.\")\n",
    "    except Exception as e:\n",
    "        print(f\"Error deleting {file_to_delete}: {e}\")\n"
   ]
  },
  {
   "cell_type": "code",
   "execution_count": null,
   "id": "b2511f17-32ac-4fc9-9cac-53a68f1c6b18",
   "metadata": {},
   "outputs": [],
   "source": [
    "\n",
    "files_to_rename = ['interactions_after_update23','users_after_update23','stores_after_update23']\n",
    "for i in range(len(files)):\n",
    "    old_file_name = 'D:\\interactions_only\\interactions_only_update\\\\updates4\\{}.csv'.format(files_to_rename[i])\n",
    "    new_file_name = 'D:\\interactions_only\\interactions_only_update\\\\updates4\\{}.csv'.format(files[i])\n",
    "\n",
    "    try:\n",
    "        os.rename(old_file_name, new_file_name)\n",
    "        print(f\"{old_file_name} renamed to {new_file_name} successfully.\")\n",
    "    except FileNotFoundError:\n",
    "        print(f\"{old_file_name} not found.\")\n",
    "    except Exception as e:\n",
    "        print(f\"Error renaming {old_file_name} to {new_file_name}: {e}\")"
   ]
  },
  {
   "cell_type": "code",
   "execution_count": null,
   "id": "dca53f6a-ffc8-4a31-98f1-ef78ae4c5475",
   "metadata": {},
   "outputs": [],
   "source": []
  },
  {
   "cell_type": "code",
   "execution_count": null,
   "id": "ca4e62ba-8a81-4513-a40d-b5a488261c5a",
   "metadata": {},
   "outputs": [],
   "source": []
  }
 ],
 "metadata": {
  "kernelspec": {
   "display_name": "Python 3 (ipykernel)",
   "language": "python",
   "name": "python3"
  },
  "language_info": {
   "codemirror_mode": {
    "name": "ipython",
    "version": 3
   },
   "file_extension": ".py",
   "mimetype": "text/x-python",
   "name": "python",
   "nbconvert_exporter": "python",
   "pygments_lexer": "ipython3",
   "version": "3.12.3"
  }
 },
 "nbformat": 4,
 "nbformat_minor": 5
}
